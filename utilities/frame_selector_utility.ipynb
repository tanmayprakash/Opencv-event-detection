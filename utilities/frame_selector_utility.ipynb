{
 "cells": [
  {
   "cell_type": "code",
   "execution_count": 1,
   "id": "4361dc41",
   "metadata": {},
   "outputs": [],
   "source": [
    "import numpy as np\n",
    "import pandas as pd\n",
    "import cv2\n",
    "import matplotlib.pyplot as plt\n",
    "from scipy import ndimage"
   ]
  },
  {
   "cell_type": "code",
   "execution_count": 2,
   "id": "f9bb1c20",
   "metadata": {},
   "outputs": [],
   "source": [
    "from collections import deque\n",
    "import numpy as np\n",
    "import argparse\n",
    "import cv2\n",
    "import imutils\n",
    "import time\n",
    "import matplotlib.pyplot as plt"
   ]
  },
  {
   "cell_type": "code",
   "execution_count": 9,
   "id": "ae4c5164",
   "metadata": {},
   "outputs": [
    {
     "name": "stdout",
     "output_type": "stream",
     "text": [
      "(1243, 523)\n",
      "(782, 19)\n",
      "(1776, 24)\n",
      "(1752, 984)\n",
      "(777, 1036)\n"
     ]
    }
   ],
   "source": [
    "coordinate_lst=[]\n",
    "def click_event(event, x, y, flags, params):\n",
    "    if event == cv2.EVENT_LBUTTONDOWN:\n",
    "#         print(\"(x,y)={},{}\".format(x,y))\n",
    "        # put coordinates as text on the image\n",
    "        cv2.putText(img,str(x)+','+str(y) ,(x,y),\n",
    "        cv2.FONT_HERSHEY_SIMPLEX, 1, (0, 0, 255), 2)\n",
    "\n",
    "        # draw point on the image\n",
    "        cv2.circle(img, (x,y), 3, (0,255,255), -1)\n",
    "        x=int(x*mf)\n",
    "        y=int(y*mf)\n",
    "        coordinate_lst.append((x,y))\n",
    "        \n",
    " \n",
    "# read the input image\n",
    "\n",
    "img = cv2.imread('Mask_selector.jpg')\n",
    "frame_width=img.shape[1]\n",
    "img= imutils.resize(img,400)\n",
    "mf= frame_width/400\n",
    "# create a window\n",
    "cv2.namedWindow('Point Coordinates')\n",
    "\n",
    "# bind the callback function to window\n",
    "cv2.setMouseCallback('Point Coordinates', click_event)\n",
    "\n",
    "# display the image\n",
    "while True:\n",
    "    cv2.imshow('Point Coordinates',img)\n",
    "    if cv2.waitKey(10) & 0xFF == ord('q'):\n",
    "        break\n",
    "\n",
    "cv2.destroyAllWindows()\n",
    "\n",
    "\n",
    "for coordinates in coordinate_lst:\n",
    "    print(coordinates)"
   ]
  },
  {
   "cell_type": "code",
   "execution_count": null,
   "id": "d212a858",
   "metadata": {},
   "outputs": [],
   "source": []
  }
 ],
 "metadata": {
  "kernelspec": {
   "display_name": "Python 3",
   "language": "python",
   "name": "python3"
  },
  "language_info": {
   "codemirror_mode": {
    "name": "ipython",
    "version": 3
   },
   "file_extension": ".py",
   "mimetype": "text/x-python",
   "name": "python",
   "nbconvert_exporter": "python",
   "pygments_lexer": "ipython3",
   "version": "3.5.6"
  }
 },
 "nbformat": 4,
 "nbformat_minor": 5
}
